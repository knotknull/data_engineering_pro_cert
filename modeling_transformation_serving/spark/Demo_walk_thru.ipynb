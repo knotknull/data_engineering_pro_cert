{
 "cells": [
  {
   "cell_type": "code",
   "execution_count": 2,
   "id": "867ec043-acf0-4708-b337-44d48bd5e566",
   "metadata": {},
   "outputs": [
    {
     "name": "stdout",
     "output_type": "stream",
     "text": [
      "Defaulting to user installation because normal site-packages is not writeable\n",
      "Collecting pyspark\n",
      "  Downloading pyspark-3.5.3.tar.gz (317.3 MB)\n",
      "\u001b[2K     \u001b[38;2;114;156;31m━━━━━━━━━━━━━━━━━━━━━━━━━━━━━━━━━━━━━━\u001b[0m \u001b[32m317.3/317.3 MB\u001b[0m \u001b[31m34.0 MB/s\u001b[0m eta \u001b[36m0:00:00\u001b[0mm eta \u001b[36m0:00:01\u001b[0m0:01\u001b[0m:02\u001b[0m\n",
      "\u001b[?25h  Preparing metadata (setup.py) ... \u001b[?25ldone\n",
      "\u001b[?25hCollecting py4j==0.10.9.7 (from pyspark)\n",
      "  Downloading py4j-0.10.9.7-py2.py3-none-any.whl.metadata (1.5 kB)\n",
      "Downloading py4j-0.10.9.7-py2.py3-none-any.whl (200 kB)\n",
      "Building wheels for collected packages: pyspark\n",
      "  Building wheel for pyspark (setup.py) ... \u001b[?25ldone\n",
      "\u001b[?25h  Created wheel for pyspark: filename=pyspark-3.5.3-py2.py3-none-any.whl size=317840630 sha256=1b71d2eef28f2ba9d86895ea752c2d9bd4d69d603166d4f5ae5f174d8011c959\n",
      "  Stored in directory: /home/map/.cache/pip/wheels/1b/3a/92/28b93e2fbfdbb07509ca4d6f50c5e407f48dce4ddbda69a4ab\n",
      "Successfully built pyspark\n",
      "Installing collected packages: py4j, pyspark\n",
      "Successfully installed py4j-0.10.9.7 pyspark-3.5.3\n",
      "Note: you may need to restart the kernel to use updated packages.\n"
     ]
    }
   ],
   "source": [
    "pip install pyspark"
   ]
  },
  {
   "cell_type": "code",
   "execution_count": 1,
   "id": "dc480a22-0793-4e5f-9dc6-b803498704ef",
   "metadata": {},
   "outputs": [
    {
     "name": "stdout",
     "output_type": "stream",
     "text": [
      "Defaulting to user installation because normal site-packages is not writeable\n",
      "Collecting findspark\n",
      "  Downloading findspark-2.0.1-py2.py3-none-any.whl.metadata (352 bytes)\n",
      "Downloading findspark-2.0.1-py2.py3-none-any.whl (4.4 kB)\n",
      "Installing collected packages: findspark\n",
      "Successfully installed findspark-2.0.1\n",
      "Note: you may need to restart the kernel to use updated packages.\n"
     ]
    }
   ],
   "source": [
    "pip install findspark"
   ]
  },
  {
   "cell_type": "code",
   "execution_count": 1,
   "id": "248b71ec-6f26-45fa-a07d-c15a1619fb40",
   "metadata": {},
   "outputs": [],
   "source": [
    "import pyspark \n",
    "import findspark\n",
    "findspark.init()"
   ]
  },
  {
   "cell_type": "code",
   "execution_count": 2,
   "id": "9c5215a5-f166-4cd0-a2e3-322429e766cf",
   "metadata": {},
   "outputs": [
    {
     "name": "stderr",
     "output_type": "stream",
     "text": [
      "24/10/15 09:13:45 WARN Utils: Your hostname, hexagon resolves to a loopback address: 127.0.1.1; using 192.168.99.98 instead (on interface wlx00c0cab05cdd)\n",
      "24/10/15 09:13:45 WARN Utils: Set SPARK_LOCAL_IP if you need to bind to another address\n",
      "Setting default log level to \"WARN\".\n",
      "To adjust logging level use sc.setLogLevel(newLevel). For SparkR, use setLogLevel(newLevel).\n",
      "24/10/15 09:13:45 WARN NativeCodeLoader: Unable to load native-hadoop library for your platform... using builtin-java classes where applicable\n"
     ]
    }
   ],
   "source": [
    "# Create a Spark session first\n",
    "from pyspark.sql import SparkSession\n",
    "\n",
    "spark = SparkSession.builder.appName('example').getOrCreate()"
   ]
  },
  {
   "cell_type": "code",
   "execution_count": 3,
   "id": "aabea3b5-5c35-4782-ae6f-95cc4022a43f",
   "metadata": {},
   "outputs": [
    {
     "data": {
      "text/html": [
       "\n",
       "            <div>\n",
       "                <p><b>SparkSession - in-memory</b></p>\n",
       "                \n",
       "        <div>\n",
       "            <p><b>SparkContext</b></p>\n",
       "\n",
       "            <p><a href=\"http://192.168.99.98:4040\">Spark UI</a></p>\n",
       "\n",
       "            <dl>\n",
       "              <dt>Version</dt>\n",
       "                <dd><code>v3.5.3</code></dd>\n",
       "              <dt>Master</dt>\n",
       "                <dd><code>local[*]</code></dd>\n",
       "              <dt>AppName</dt>\n",
       "                <dd><code>example</code></dd>\n",
       "            </dl>\n",
       "        </div>\n",
       "        \n",
       "            </div>\n",
       "        "
      ],
      "text/plain": [
       "<pyspark.sql.session.SparkSession at 0x7f6d2c1a7a60>"
      ]
     },
     "execution_count": 3,
     "metadata": {},
     "output_type": "execute_result"
    }
   ],
   "source": [
    "spark"
   ]
  },
  {
   "cell_type": "code",
   "execution_count": 5,
   "id": "6daa7d45-a818-4d23-846c-912f2cb7c859",
   "metadata": {},
   "outputs": [],
   "source": [
    "orders_df = spark.createDataFrame(\n",
    "    data = [(100, 1, 1, 50.1, 1, \"Thingamjig\", 5, \"Joe Reis\"),\n",
    "            (100, 2, 2, 25.08, 2, \"Whatchamacallit\", 5, \"Joe Reis\"),\n",
    "            (101, 1, 3, 75.23, 1, \"Whoozeewhatzit\", 7, \"Matt Housley\")],\n",
    "    schema = \"\"\" OrderID long, ItemNumber integer, SKU integer, Price double, Quantity integer, Name string, CustomerID long, CustomerName string\"\"\")"
   ]
  },
  {
   "cell_type": "code",
   "execution_count": 6,
   "id": "85044c14-fee8-43d5-9098-c5b28c519350",
   "metadata": {},
   "outputs": [
    {
     "name": "stderr",
     "output_type": "stream",
     "text": [
      "                                                                                \r"
     ]
    },
    {
     "name": "stdout",
     "output_type": "stream",
     "text": [
      "+-------+----------+---+-----+--------+---------------+----------+------------+\n",
      "|OrderID|ItemNumber|SKU|Price|Quantity|           Name|CustomerID|CustomerName|\n",
      "+-------+----------+---+-----+--------+---------------+----------+------------+\n",
      "|    100|         1|  1| 50.1|       1|     Thingamjig|         5|    Joe Reis|\n",
      "|    100|         2|  2|25.08|       2|Whatchamacallit|         5|    Joe Reis|\n",
      "|    101|         1|  3|75.23|       1| Whoozeewhatzit|         7|Matt Housley|\n",
      "+-------+----------+---+-----+--------+---------------+----------+------------+\n",
      "\n"
     ]
    }
   ],
   "source": [
    "orders_df.show()"
   ]
  },
  {
   "cell_type": "code",
   "execution_count": 7,
   "id": "860eeb7f-e03a-45fa-a09d-826b65c783c5",
   "metadata": {},
   "outputs": [],
   "source": [
    "# now lets import a csv file into a dataframe,  still using the original spark object to do this:\n",
    "transactions_df = spark.read.csv('online_retail_map.csv', header=True)"
   ]
  },
  {
   "cell_type": "code",
   "execution_count": 8,
   "id": "ea4ace45-25bd-4260-b329-bbf5bb6656ee",
   "metadata": {},
   "outputs": [
    {
     "name": "stdout",
     "output_type": "stream",
     "text": [
      "+-------+---------+--------------------+--------+--------------+-----+-----------+--------------+\n",
      "|Invoice|StockCode|         Description|Quantity|   InvoiceDate|Price|Customer ID|       Country|\n",
      "+-------+---------+--------------------+--------+--------------+-----+-----------+--------------+\n",
      "| 489434|    85048|15CM CHRISTMAS GL...|      12|12/1/2009 7:45| 6.95|      13085|United Kingdom|\n",
      "| 489434|   79323P|  PINK CHERRY LIGHTS|      12|12/1/2009 7:45| 6.75|      13085|United Kingdom|\n",
      "| 489434|   79323W| WHITE CHERRY LIGHTS|      12|12/1/2009 7:45| 6.75|      13085|United Kingdom|\n",
      "| 489434|    22041|\"RECORD FRAME 7\"\"...|      48|12/1/2009 7:45|  2.1|      13085|United Kingdom|\n",
      "| 489434|    21232|STRAWBERRY CERAMI...|      24|12/1/2009 7:45| 1.25|      13085|United Kingdom|\n",
      "| 489434|    22064|PINK DOUGHNUT TRI...|      24|12/1/2009 7:45| 1.65|      13085|United Kingdom|\n",
      "+-------+---------+--------------------+--------+--------------+-----+-----------+--------------+\n",
      "only showing top 6 rows\n",
      "\n"
     ]
    }
   ],
   "source": [
    "transactions_df.show(n=6)"
   ]
  },
  {
   "cell_type": "code",
   "execution_count": 9,
   "id": "01a80b9a-31b9-4ec6-b473-0b96f5f4a577",
   "metadata": {},
   "outputs": [
    {
     "data": {
      "text/plain": [
       "['Invoice',\n",
       " 'StockCode',\n",
       " 'Description',\n",
       " 'Quantity',\n",
       " 'InvoiceDate',\n",
       " 'Price',\n",
       " 'Customer ID',\n",
       " 'Country']"
      ]
     },
     "execution_count": 9,
     "metadata": {},
     "output_type": "execute_result"
    }
   ],
   "source": [
    "# show the columns\n",
    "transactions_df.columns"
   ]
  },
  {
   "cell_type": "code",
   "execution_count": 10,
   "id": "958fd16f-8ed9-4022-920d-9475b6fa143b",
   "metadata": {},
   "outputs": [
    {
     "name": "stdout",
     "output_type": "stream",
     "text": [
      "+-----+--------+--------------+\n",
      "|Price|Quantity|       Country|\n",
      "+-----+--------+--------------+\n",
      "| 6.95|      12|United Kingdom|\n",
      "| 6.75|      12|United Kingdom|\n",
      "| 6.75|      12|United Kingdom|\n",
      "|  2.1|      48|United Kingdom|\n",
      "| 1.25|      24|United Kingdom|\n",
      "| 1.65|      24|United Kingdom|\n",
      "+-----+--------+--------------+\n",
      "only showing top 6 rows\n",
      "\n"
     ]
    }
   ],
   "source": [
    "transactions_df.select('Price', 'Quantity', 'Country').show(n=6)"
   ]
  },
  {
   "cell_type": "code",
   "execution_count": 11,
   "id": "6e5ed454-25e6-4417-bec2-ae90d6a86de7",
   "metadata": {},
   "outputs": [
    {
     "name": "stderr",
     "output_type": "stream",
     "text": [
      "[Stage 6:==============>                                            (2 + 6) / 8]\r"
     ]
    },
    {
     "name": "stdout",
     "output_type": "stream",
     "text": [
      "+-------+------------------+------------------+-----------+\n",
      "|summary|             Price|          Quantity|    Country|\n",
      "+-------+------------------+------------------+-----------+\n",
      "|  count|           1067371|           1067371|    1067371|\n",
      "|   mean| 4.649387727415791|   9.9388984711033|       NULL|\n",
      "| stddev|123.55305872146302|172.70579407675285|       NULL|\n",
      "|    min|         -11062.06|                -1|  Australia|\n",
      "|    max|             99.96|               992|West Indies|\n",
      "+-------+------------------+------------------+-----------+\n",
      "\n"
     ]
    },
    {
     "name": "stderr",
     "output_type": "stream",
     "text": [
      "                                                                                \r"
     ]
    }
   ],
   "source": [
    "# get summaries of columns\n",
    "transactions_df.select('Price', 'Quantity', 'Country').describe().show()"
   ]
  },
  {
   "cell_type": "code",
   "execution_count": 14,
   "id": "8b98b8bf-8a47-4160-94e7-59a6a239849c",
   "metadata": {},
   "outputs": [],
   "source": [
    "# Create a new column that is a calculation of two other columns\n",
    "transactions_df = transactions_df.withColumn(colName='Amount', col= transactions_df.Price * transactions_df.Quantity)"
   ]
  },
  {
   "cell_type": "code",
   "execution_count": 15,
   "id": "22ce914d-52f8-4087-a2d5-bfd8373839dc",
   "metadata": {},
   "outputs": [
    {
     "name": "stdout",
     "output_type": "stream",
     "text": [
      "+-------+---------+--------------------+--------+--------------+-----+-----------+--------------+------------------+\n",
      "|Invoice|StockCode|         Description|Quantity|   InvoiceDate|Price|Customer ID|       Country|            Amount|\n",
      "+-------+---------+--------------------+--------+--------------+-----+-----------+--------------+------------------+\n",
      "| 489434|    85048|15CM CHRISTMAS GL...|      12|12/1/2009 7:45| 6.95|      13085|United Kingdom|              83.4|\n",
      "| 489434|   79323P|  PINK CHERRY LIGHTS|      12|12/1/2009 7:45| 6.75|      13085|United Kingdom|              81.0|\n",
      "| 489434|   79323W| WHITE CHERRY LIGHTS|      12|12/1/2009 7:45| 6.75|      13085|United Kingdom|              81.0|\n",
      "| 489434|    22041|\"RECORD FRAME 7\"\"...|      48|12/1/2009 7:45|  2.1|      13085|United Kingdom|100.80000000000001|\n",
      "| 489434|    21232|STRAWBERRY CERAMI...|      24|12/1/2009 7:45| 1.25|      13085|United Kingdom|              30.0|\n",
      "| 489434|    22064|PINK DOUGHNUT TRI...|      24|12/1/2009 7:45| 1.65|      13085|United Kingdom|39.599999999999994|\n",
      "+-------+---------+--------------------+--------+--------------+-----+-----------+--------------+------------------+\n",
      "only showing top 6 rows\n",
      "\n"
     ]
    }
   ],
   "source": [
    "transactions_df.show(n=6)"
   ]
  },
  {
   "cell_type": "code",
   "execution_count": 16,
   "id": "ac7ed303-e593-475c-9c86-d05b69a917f7",
   "metadata": {},
   "outputs": [],
   "source": [
    "# lets rename an existing column name\n",
    "transactions_df = transactions_df.withColumnRenamed(existing='Invoice', new='ID')"
   ]
  },
  {
   "cell_type": "code",
   "execution_count": 17,
   "id": "993fcb67-acad-4fc3-9154-32557471271a",
   "metadata": {},
   "outputs": [],
   "source": [
    "# lets drop a column\n",
    "transactions_df = transactions_df.drop('Description')"
   ]
  },
  {
   "cell_type": "code",
   "execution_count": 18,
   "id": "eaaac29f-9386-4652-9cb8-7e813174ec13",
   "metadata": {},
   "outputs": [
    {
     "name": "stdout",
     "output_type": "stream",
     "text": [
      "+------+---------+--------+--------------+-----+-----------+--------------+------------------+\n",
      "|    ID|StockCode|Quantity|   InvoiceDate|Price|Customer ID|       Country|            Amount|\n",
      "+------+---------+--------+--------------+-----+-----------+--------------+------------------+\n",
      "|489434|    85048|      12|12/1/2009 7:45| 6.95|      13085|United Kingdom|              83.4|\n",
      "|489434|   79323P|      12|12/1/2009 7:45| 6.75|      13085|United Kingdom|              81.0|\n",
      "|489434|   79323W|      12|12/1/2009 7:45| 6.75|      13085|United Kingdom|              81.0|\n",
      "|489434|    22041|      48|12/1/2009 7:45|  2.1|      13085|United Kingdom|100.80000000000001|\n",
      "|489434|    21232|      24|12/1/2009 7:45| 1.25|      13085|United Kingdom|              30.0|\n",
      "|489434|    22064|      24|12/1/2009 7:45| 1.65|      13085|United Kingdom|39.599999999999994|\n",
      "+------+---------+--------+--------------+-----+-----------+--------------+------------------+\n",
      "only showing top 6 rows\n",
      "\n"
     ]
    }
   ],
   "source": [
    "transactions_df.show(n=6)"
   ]
  },
  {
   "cell_type": "code",
   "execution_count": 19,
   "id": "50c2d0d9-6e35-4dbe-b5d3-48e6c2d2baf8",
   "metadata": {},
   "outputs": [],
   "source": [
    "# delete rows with null values\n",
    "transactions_df = transactions_df.dropna()"
   ]
  },
  {
   "cell_type": "code",
   "execution_count": 20,
   "id": "24655639-a022-4e70-a98e-e3d21a60fc28",
   "metadata": {},
   "outputs": [],
   "source": [
    "# lets filter rows \n",
    "transactions_df = transactions_df.filter(transactions_df.Quantity>0)"
   ]
  },
  {
   "cell_type": "code",
   "execution_count": 21,
   "id": "ae282e85-9d92-469e-8dfa-44383cd0b7c5",
   "metadata": {},
   "outputs": [
    {
     "name": "stdout",
     "output_type": "stream",
     "text": [
      "+------+---------+--------+--------------+-----+-----------+--------------+------------------+\n",
      "|    ID|StockCode|Quantity|   InvoiceDate|Price|Customer ID|       Country|            Amount|\n",
      "+------+---------+--------+--------------+-----+-----------+--------------+------------------+\n",
      "|489434|    85048|      12|12/1/2009 7:45| 6.95|      13085|United Kingdom|              83.4|\n",
      "|489434|   79323P|      12|12/1/2009 7:45| 6.75|      13085|United Kingdom|              81.0|\n",
      "|489434|   79323W|      12|12/1/2009 7:45| 6.75|      13085|United Kingdom|              81.0|\n",
      "|489434|    22041|      48|12/1/2009 7:45|  2.1|      13085|United Kingdom|100.80000000000001|\n",
      "|489434|    21232|      24|12/1/2009 7:45| 1.25|      13085|United Kingdom|              30.0|\n",
      "|489434|    22064|      24|12/1/2009 7:45| 1.65|      13085|United Kingdom|39.599999999999994|\n",
      "+------+---------+--------+--------------+-----+-----------+--------------+------------------+\n",
      "only showing top 6 rows\n",
      "\n"
     ]
    }
   ],
   "source": [
    "transactions_df.show(n=6)"
   ]
  },
  {
   "cell_type": "code",
   "execution_count": 22,
   "id": "c64a7850-d54c-4126-80d3-b310fac40200",
   "metadata": {},
   "outputs": [
    {
     "name": "stderr",
     "output_type": "stream",
     "text": [
      "                                                                                \r"
     ]
    },
    {
     "name": "stdout",
     "output_type": "stream",
     "text": [
      "+------+------------------+\n",
      "|    ID|       sum(Amount)|\n",
      "+------+------------------+\n",
      "|489677|             192.0|\n",
      "|491045|             303.2|\n",
      "|491658|155.05999999999997|\n",
      "|493542|            118.75|\n",
      "|493977|            275.95|\n",
      "|494244|            6711.0|\n",
      "|494277|           1335.92|\n",
      "|495185|           2507.06|\n",
      "|495783|             48.96|\n",
      "|496171|199.29999999999998|\n",
      "|496233|188.82999999999998|\n",
      "|496427|291.14000000000004|\n",
      "|497229| 312.5899999999999|\n",
      "|498070|207.15000000000006|\n",
      "|498125|190.95000000000005|\n",
      "|498328|            275.04|\n",
      "|500148|431.59000000000015|\n",
      "|500903|           2655.96|\n",
      "|500979|              11.9|\n",
      "|501046|             612.0|\n",
      "+------+------------------+\n",
      "only showing top 20 rows\n",
      "\n"
     ]
    }
   ],
   "source": [
    "# calculate total amount spent on each order\n",
    "transactions_df.groupby(\"ID\").sum(\"Amount\").show()"
   ]
  },
  {
   "cell_type": "code",
   "execution_count": 23,
   "id": "c6b71802-5f76-46d4-b082-ec3270299083",
   "metadata": {},
   "outputs": [
    {
     "name": "stderr",
     "output_type": "stream",
     "text": [
      "[Stage 16:==================================================>       (7 + 1) / 8]\r"
     ]
    },
    {
     "name": "stdout",
     "output_type": "stream",
     "text": [
      "+---------------+------+\n",
      "|        Country| count|\n",
      "+---------------+------+\n",
      "| United Kingdom|725296|\n",
      "|        Germany| 16703|\n",
      "|           EIRE| 15745|\n",
      "|         France| 13813|\n",
      "|    Netherlands|  5093|\n",
      "|          Spain|  3720|\n",
      "|        Belgium|  3069|\n",
      "|    Switzerland|  3012|\n",
      "|       Portugal|  2446|\n",
      "|      Australia|  1815|\n",
      "|Channel Islands|  1569|\n",
      "|          Italy|  1468|\n",
      "|         Norway|  1437|\n",
      "|         Sweden|  1319|\n",
      "|         Cyprus|  1155|\n",
      "|        Finland|  1032|\n",
      "|        Austria|   922|\n",
      "|        Denmark|   798|\n",
      "|         Greece|   657|\n",
      "|    Unspecified|   521|\n",
      "+---------------+------+\n",
      "only showing top 20 rows\n",
      "\n"
     ]
    },
    {
     "name": "stderr",
     "output_type": "stream",
     "text": [
      "                                                                                \r"
     ]
    }
   ],
   "source": [
    "# total number of rows for each country in descending order\n",
    "transactions_df.groupby(\"Country\").count().orderBy('count', ascending=False).show()"
   ]
  },
  {
   "cell_type": "code",
   "execution_count": 26,
   "id": "fa34d593-0f6d-454d-a872-9edf4cb044b1",
   "metadata": {},
   "outputs": [],
   "source": [
    "@udf('string')\n",
    "def toUpper(word:str):\n",
    "    return word.upper()"
   ]
  },
  {
   "cell_type": "code",
   "execution_count": 27,
   "id": "9ae72086-6bb1-4905-af95-16e7b08a3ef1",
   "metadata": {},
   "outputs": [
    {
     "name": "stdout",
     "output_type": "stream",
     "text": [
      "+------+----------------+\n",
      "|    ID|toUpper(Country)|\n",
      "+------+----------------+\n",
      "|489434|  UNITED KINGDOM|\n",
      "|489434|  UNITED KINGDOM|\n",
      "|489434|  UNITED KINGDOM|\n",
      "|489434|  UNITED KINGDOM|\n",
      "|489434|  UNITED KINGDOM|\n",
      "|489434|  UNITED KINGDOM|\n",
      "+------+----------------+\n",
      "only showing top 6 rows\n",
      "\n"
     ]
    }
   ],
   "source": [
    "from pyspark.sql.functions import udf\n",
    "\n",
    "## udf_to_upper = udf(toUpper, returnType='string')\n",
    "transactions_df.select('ID', toUpper('Country')).show(n=6)"
   ]
  },
  {
   "cell_type": "code",
   "execution_count": 28,
   "id": "965a19fb-f00f-4f59-88dc-fd475acbf667",
   "metadata": {},
   "outputs": [],
   "source": [
    "# Let's replace an existing column in place with new values\n",
    "transactions_df = transactions_df.withColumn(colName='Country', \n",
    "                                             col=toUpper('Country'))"
   ]
  },
  {
   "cell_type": "code",
   "execution_count": 29,
   "id": "f48c5c82-fe6e-493f-82ba-1ae757e08da0",
   "metadata": {},
   "outputs": [
    {
     "name": "stdout",
     "output_type": "stream",
     "text": [
      "+------+---------+--------+--------------+-----+-----------+--------------+------------------+\n",
      "|    ID|StockCode|Quantity|   InvoiceDate|Price|Customer ID|       Country|            Amount|\n",
      "+------+---------+--------+--------------+-----+-----------+--------------+------------------+\n",
      "|489434|    85048|      12|12/1/2009 7:45| 6.95|      13085|UNITED KINGDOM|              83.4|\n",
      "|489434|   79323P|      12|12/1/2009 7:45| 6.75|      13085|UNITED KINGDOM|              81.0|\n",
      "|489434|   79323W|      12|12/1/2009 7:45| 6.75|      13085|UNITED KINGDOM|              81.0|\n",
      "|489434|    22041|      48|12/1/2009 7:45|  2.1|      13085|UNITED KINGDOM|100.80000000000001|\n",
      "|489434|    21232|      24|12/1/2009 7:45| 1.25|      13085|UNITED KINGDOM|              30.0|\n",
      "|489434|    22064|      24|12/1/2009 7:45| 1.65|      13085|UNITED KINGDOM|39.599999999999994|\n",
      "+------+---------+--------+--------------+-----+-----------+--------------+------------------+\n",
      "only showing top 6 rows\n",
      "\n"
     ]
    }
   ],
   "source": [
    "transactions_df.show(n=6)"
   ]
  },
  {
   "cell_type": "code",
   "execution_count": null,
   "id": "6681c5d4-a551-4ffa-a8eb-3fbbb7aadb11",
   "metadata": {},
   "outputs": [],
   "source": []
  }
 ],
 "metadata": {
  "kernelspec": {
   "display_name": "Python 3 (ipykernel)",
   "language": "python",
   "name": "python3"
  },
  "language_info": {
   "codemirror_mode": {
    "name": "ipython",
    "version": 3
   },
   "file_extension": ".py",
   "mimetype": "text/x-python",
   "name": "python",
   "nbconvert_exporter": "python",
   "pygments_lexer": "ipython3",
   "version": "3.10.12"
  }
 },
 "nbformat": 4,
 "nbformat_minor": 5
}
